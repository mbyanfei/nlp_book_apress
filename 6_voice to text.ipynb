{
 "cells": [
  {
   "cell_type": "markdown",
   "metadata": {},
   "source": [
    "# Code 35 to Code 38"
   ]
  },
  {
   "cell_type": "markdown",
   "metadata": {},
   "source": [
    "We use speech recognition package (https://pypi.org/project/SpeechRecognition/) and use google api to convert speech to text. You could pip install the package using the below line"
   ]
  },
  {
   "cell_type": "code",
   "execution_count": 1,
   "metadata": {},
   "outputs": [],
   "source": [
    "import speech_recognition as sr\n",
    "r = sr.Recognizer()"
   ]
  },
  {
   "cell_type": "markdown",
   "metadata": {},
   "source": [
    " We take a .wav file as input and hit google api to get the sentence transcribed. Example is given below"
   ]
  },
  {
   "cell_type": "code",
   "execution_count": 2,
   "metadata": {},
   "outputs": [],
   "source": [
    "def speech_to_text(af,show_all):\n",
    "    #playsound(af)\n",
    "    \n",
    "    with sr.AudioFile(af) as source:\n",
    "        #reads the audio file. Here we use record instead of\n",
    "        #listen\n",
    "    \n",
    "        audio = r.record(source)  \n",
    "        \n",
    "        abc = r.recognize_google(audio,show_all=show_all)\n",
    "    return abc"
   ]
  },
  {
   "cell_type": "code",
   "execution_count": 3,
   "metadata": {},
   "outputs": [],
   "source": [
    "af1 = \"sample_audio.wav\""
   ]
  },
  {
   "cell_type": "markdown",
   "metadata": {},
   "source": [
    "The function takes 2 arguments, one is the file itself. Other is on the speech recognition there is a flag called “show_all”. If this is False then the google api return the most probable speech to text recognition. The output shown below."
   ]
  },
  {
   "cell_type": "code",
   "execution_count": 4,
   "metadata": {},
   "outputs": [
    {
     "data": {
      "text/plain": [
       "u'I am calling for reversal of enquiry and my account number is 911'"
      ]
     },
     "execution_count": 4,
     "metadata": {},
     "output_type": "execute_result"
    }
   ],
   "source": [
    "speech_to_text(af1,False)"
   ]
  },
  {
   "cell_type": "markdown",
   "metadata": {},
   "source": [
    "On setting the show_all to False the google api returns all the recognition with the confidence level as a dictionary. This could be useful if we want to pickup the most probable outputs"
   ]
  },
  {
   "cell_type": "code",
   "execution_count": 5,
   "metadata": {},
   "outputs": [
    {
     "data": {
      "text/plain": [
       "{u'alternative': [{u'confidence': 0.91343725,\n",
       "   u'transcript': u'I am calling for reversal of enquiry and my account number is 911'},\n",
       "  {u'transcript': u'I am calling for reversal of enquiry and my account number is 9 11'},\n",
       "  {u'transcript': u'I am calling for reversal of enquiry in my account number is 911'},\n",
       "  {u'transcript': u\"I'm calling for reversal of enquiry and my account number is 911\"},\n",
       "  {u'transcript': u'I am calling for reversal of enquiry in my account number is 9 11'}],\n",
       " u'final': True}"
      ]
     },
     "execution_count": 5,
     "metadata": {},
     "output_type": "execute_result"
    }
   ],
   "source": [
    "speech_to_text(af1,True)"
   ]
  },
  {
   "cell_type": "code",
   "execution_count": null,
   "metadata": {},
   "outputs": [],
   "source": []
  }
 ],
 "metadata": {
  "kernelspec": {
   "display_name": "Python [conda env:py36]",
   "language": "python",
   "name": "conda-env-py36-py"
  },
  "language_info": {
   "codemirror_mode": {
    "name": "ipython",
    "version": 2
   },
   "file_extension": ".py",
   "mimetype": "text/x-python",
   "name": "python",
   "nbconvert_exporter": "python",
   "pygments_lexer": "ipython2",
   "version": "2.7.17"
  }
 },
 "nbformat": 4,
 "nbformat_minor": 2
}
