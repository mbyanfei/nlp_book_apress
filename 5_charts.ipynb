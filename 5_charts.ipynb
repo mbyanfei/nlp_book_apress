{
 "cells": [
  {
   "cell_type": "markdown",
   "metadata": {},
   "source": [
    "# Code 30 to Code 34"
   ]
  },
  {
   "cell_type": "code",
   "execution_count": 2,
   "metadata": {},
   "outputs": [],
   "source": [
    "import pandas as pd\n",
    "import numpy as np\n",
    "import matplotlib.pyplot as plt\n",
    "df = pd.read_csv('airline_dataset_csat.csv',low_memory=False,encoding = 'latin1')"
   ]
  },
  {
   "cell_type": "code",
   "execution_count": 3,
   "metadata": {},
   "outputs": [
    {
     "data": {
      "text/html": [
       "<div>\n",
       "<style scoped>\n",
       "    .dataframe tbody tr th:only-of-type {\n",
       "        vertical-align: middle;\n",
       "    }\n",
       "\n",
       "    .dataframe tbody tr th {\n",
       "        vertical-align: top;\n",
       "    }\n",
       "\n",
       "    .dataframe thead th {\n",
       "        text-align: right;\n",
       "    }\n",
       "</style>\n",
       "<table border=\"1\" class=\"dataframe\">\n",
       "  <thead>\n",
       "    <tr style=\"text-align: right;\">\n",
       "      <th></th>\n",
       "      <th>line</th>\n",
       "      <th>class</th>\n",
       "      <th>csat_fnl</th>\n",
       "    </tr>\n",
       "  </thead>\n",
       "  <tbody>\n",
       "    <tr>\n",
       "      <th>0</th>\n",
       "      <td>When can I web check-in?</td>\n",
       "      <td>check in</td>\n",
       "      <td>5</td>\n",
       "    </tr>\n",
       "    <tr>\n",
       "      <th>1</th>\n",
       "      <td>want to check in</td>\n",
       "      <td>check in</td>\n",
       "      <td>5</td>\n",
       "    </tr>\n",
       "    <tr>\n",
       "      <th>2</th>\n",
       "      <td>please check me in</td>\n",
       "      <td>check in</td>\n",
       "      <td>5</td>\n",
       "    </tr>\n",
       "    <tr>\n",
       "      <th>3</th>\n",
       "      <td>check in</td>\n",
       "      <td>check in</td>\n",
       "      <td>5</td>\n",
       "    </tr>\n",
       "    <tr>\n",
       "      <th>4</th>\n",
       "      <td>my flight is tomm can I check in</td>\n",
       "      <td>check in</td>\n",
       "      <td>5</td>\n",
       "    </tr>\n",
       "  </tbody>\n",
       "</table>\n",
       "</div>"
      ],
      "text/plain": [
       "                               line     class  csat_fnl\n",
       "0          When can I web check-in?  check in         5\n",
       "1                  want to check in  check in         5\n",
       "2                please check me in  check in         5\n",
       "3                          check in  check in         5\n",
       "4  my flight is tomm can I check in  check in         5"
      ]
     },
     "execution_count": 3,
     "metadata": {},
     "output_type": "execute_result"
    }
   ],
   "source": [
    "df.head()"
   ]
  },
  {
   "cell_type": "markdown",
   "metadata": {},
   "source": [
    "Frequency distribution of queries is a quick insight into what are the trending topics and why do customers reaches out in general. For the examples here we will use our airlines dataset. We herewith create the data frame with frequency distribution of the labels. Please note the additional column “CSAT” in the “airline” dataset. This is the CSAT rating provided by the users. For charting we would be using “matlobplotlib” library "
   ]
  },
  {
   "cell_type": "markdown",
   "metadata": {},
   "source": [
    "Frequency Distribution of intents"
   ]
  },
  {
   "cell_type": "markdown",
   "metadata": {},
   "source": [
    "Now we get the frequency distribution and plot the top queries with the absolute values"
   ]
  },
  {
   "cell_type": "code",
   "execution_count": 4,
   "metadata": {},
   "outputs": [
    {
     "data": {
      "text/html": [
       "<div>\n",
       "<style scoped>\n",
       "    .dataframe tbody tr th:only-of-type {\n",
       "        vertical-align: middle;\n",
       "    }\n",
       "\n",
       "    .dataframe tbody tr th {\n",
       "        vertical-align: top;\n",
       "    }\n",
       "\n",
       "    .dataframe thead th {\n",
       "        text-align: right;\n",
       "    }\n",
       "</style>\n",
       "<table border=\"1\" class=\"dataframe\">\n",
       "  <thead>\n",
       "    <tr style=\"text-align: right;\">\n",
       "      <th></th>\n",
       "      <th>class</th>\n",
       "      <th>counts</th>\n",
       "      <th>percent_count</th>\n",
       "    </tr>\n",
       "  </thead>\n",
       "  <tbody>\n",
       "    <tr>\n",
       "      <th>0</th>\n",
       "      <td>login</td>\n",
       "      <td>105</td>\n",
       "      <td>0.263819</td>\n",
       "    </tr>\n",
       "    <tr>\n",
       "      <th>1</th>\n",
       "      <td>other</td>\n",
       "      <td>79</td>\n",
       "      <td>0.198492</td>\n",
       "    </tr>\n",
       "    <tr>\n",
       "      <th>2</th>\n",
       "      <td>baggage</td>\n",
       "      <td>76</td>\n",
       "      <td>0.190955</td>\n",
       "    </tr>\n",
       "    <tr>\n",
       "      <th>3</th>\n",
       "      <td>check in</td>\n",
       "      <td>61</td>\n",
       "      <td>0.153266</td>\n",
       "    </tr>\n",
       "    <tr>\n",
       "      <th>4</th>\n",
       "      <td>greetings</td>\n",
       "      <td>45</td>\n",
       "      <td>0.113065</td>\n",
       "    </tr>\n",
       "    <tr>\n",
       "      <th>5</th>\n",
       "      <td>thanks</td>\n",
       "      <td>16</td>\n",
       "      <td>0.040201</td>\n",
       "    </tr>\n",
       "    <tr>\n",
       "      <th>6</th>\n",
       "      <td>cancel</td>\n",
       "      <td>16</td>\n",
       "      <td>0.040201</td>\n",
       "    </tr>\n",
       "  </tbody>\n",
       "</table>\n",
       "</div>"
      ],
      "text/plain": [
       "       class  counts  percent_count\n",
       "0      login     105       0.263819\n",
       "1      other      79       0.198492\n",
       "2    baggage      76       0.190955\n",
       "3   check in      61       0.153266\n",
       "4  greetings      45       0.113065\n",
       "5     thanks      16       0.040201\n",
       "6     cancel      16       0.040201"
      ]
     },
     "execution_count": 4,
     "metadata": {},
     "output_type": "execute_result"
    }
   ],
   "source": [
    "freq1= pd.DataFrame(df[\"class\"].value_counts()).reset_index()\n",
    "freq1.columns = [\"class\",\"counts\"]\n",
    "freq1[\"percent_count\"] = freq1[\"counts\"]/freq1[\"counts\"].sum()\n",
    "freq1"
   ]
  },
  {
   "cell_type": "markdown",
   "metadata": {},
   "source": [
    "We now plot the values using “pyplot” in matlab. “pyplot.bar” takes X and Y values to build the bar chart."
   ]
  },
  {
   "cell_type": "code",
   "execution_count": 5,
   "metadata": {},
   "outputs": [
    {
     "data": {
      "image/png": "[encoded data removed]",
      "text/plain": [
       "<Figure size 432x288 with 1 Axes>"
      ]
     },
     "metadata": {
      "needs_background": "light"
     },
     "output_type": "display_data"
    }
   ],
   "source": [
    "x_axis_lab = list(freq1[\"class\"])\n",
    "y_axis_lab = list(freq1[\"counts\"])\n",
    "y_per_axis_lab = list(freq1[\"percent_count\"])\n",
    "\n",
    "import matplotlib.pyplot as plt\n",
    "plt.bar(x_axis_lab,y_axis_lab)\n",
    "plt.ylabel('Counts')\n",
    "plt.xlabel('Categories')\n",
    "plt.show()"
   ]
  },
  {
   "cell_type": "markdown",
   "metadata": {},
   "source": [
    "# Top CSAT drivers\n",
    "Customer satisfaction is a survey that users answer at the end of a customer service interaction. This is generally on a scale of 1 to 5. By plotting CSAT responses by topics mined would give an idea on which are the “intents” customers are satisfied or dissatisfied with. In our airline dataset example, we classify customers as “satisfied” if they give a rating of 4 & 5. And any score of 1 to 3 the customers are considered to be “dissatisfied”. We classify the “csat_fnl” score based on this logic. We first cross tab the intent and satisfaction class (“satisfied”, “dissatisfied”)\n"
   ]
  },
  {
   "cell_type": "markdown",
   "metadata": {},
   "source": [
    "# CSAT Distributon of intents with % Volume"
   ]
  },
  {
   "cell_type": "code",
   "execution_count": 6,
   "metadata": {},
   "outputs": [],
   "source": [
    "df[\"sat\"]=1\n",
    "df.loc[df.csat_fnl<=3,\"sat\"]=0\n",
    "ct = pd.crosstab(df[\"class\"],df[\"sat\"],normalize='index')\n",
    "\n",
    "ct = ct.reset_index()\n",
    "ct_cols = ct.columns\n",
    "ct_cols1 = [ct_cols[0],\"dissat\",\"sat\"]\n",
    "ct.columns = ct_cols1\n",
    "ct[\"label\"] = ct[\"class\"]"
   ]
  },
  {
   "cell_type": "code",
   "execution_count": 7,
   "metadata": {},
   "outputs": [
    {
     "data": {
      "text/html": [
       "<div>\n",
       "<style scoped>\n",
       "    .dataframe tbody tr th:only-of-type {\n",
       "        vertical-align: middle;\n",
       "    }\n",
       "\n",
       "    .dataframe tbody tr th {\n",
       "        vertical-align: top;\n",
       "    }\n",
       "\n",
       "    .dataframe thead th {\n",
       "        text-align: right;\n",
       "    }\n",
       "</style>\n",
       "<table border=\"1\" class=\"dataframe\">\n",
       "  <thead>\n",
       "    <tr style=\"text-align: right;\">\n",
       "      <th></th>\n",
       "      <th>class</th>\n",
       "      <th>dissat</th>\n",
       "      <th>sat</th>\n",
       "      <th>label</th>\n",
       "    </tr>\n",
       "  </thead>\n",
       "  <tbody>\n",
       "    <tr>\n",
       "      <th>0</th>\n",
       "      <td>baggage</td>\n",
       "      <td>0.394737</td>\n",
       "      <td>0.605263</td>\n",
       "      <td>baggage</td>\n",
       "    </tr>\n",
       "    <tr>\n",
       "      <th>1</th>\n",
       "      <td>cancel</td>\n",
       "      <td>0.437500</td>\n",
       "      <td>0.562500</td>\n",
       "      <td>cancel</td>\n",
       "    </tr>\n",
       "    <tr>\n",
       "      <th>2</th>\n",
       "      <td>check in</td>\n",
       "      <td>0.295082</td>\n",
       "      <td>0.704918</td>\n",
       "      <td>check in</td>\n",
       "    </tr>\n",
       "    <tr>\n",
       "      <th>3</th>\n",
       "      <td>greetings</td>\n",
       "      <td>0.311111</td>\n",
       "      <td>0.688889</td>\n",
       "      <td>greetings</td>\n",
       "    </tr>\n",
       "    <tr>\n",
       "      <th>4</th>\n",
       "      <td>login</td>\n",
       "      <td>0.371429</td>\n",
       "      <td>0.628571</td>\n",
       "      <td>login</td>\n",
       "    </tr>\n",
       "    <tr>\n",
       "      <th>5</th>\n",
       "      <td>other</td>\n",
       "      <td>0.417722</td>\n",
       "      <td>0.582278</td>\n",
       "      <td>other</td>\n",
       "    </tr>\n",
       "    <tr>\n",
       "      <th>6</th>\n",
       "      <td>thanks</td>\n",
       "      <td>0.312500</td>\n",
       "      <td>0.687500</td>\n",
       "      <td>thanks</td>\n",
       "    </tr>\n",
       "  </tbody>\n",
       "</table>\n",
       "</div>"
      ],
      "text/plain": [
       "       class    dissat       sat      label\n",
       "0    baggage  0.394737  0.605263    baggage\n",
       "1     cancel  0.437500  0.562500     cancel\n",
       "2   check in  0.295082  0.704918   check in\n",
       "3  greetings  0.311111  0.688889  greetings\n",
       "4      login  0.371429  0.628571      login\n",
       "5      other  0.417722  0.582278      other\n",
       "6     thanks  0.312500  0.687500     thanks"
      ]
     },
     "execution_count": 7,
     "metadata": {},
     "output_type": "execute_result"
    }
   ],
   "source": [
    "ct"
   ]
  },
  {
   "cell_type": "markdown",
   "metadata": {},
   "source": [
    "We now plot a stacked bar chart with satisfaction and dissatisfaction. We use the intent percentage distribution as the secondary axis. In the “matplotlib” package we create “subplots” in order to show 2 y-axes. First we create the stacked bar for satisfied/dissatisfied using the parameter “bottom”. The “dissat” variable stacks on “csat” variable"
   ]
  },
  {
   "cell_type": "code",
   "execution_count": 8,
   "metadata": {},
   "outputs": [
    {
     "data": {
      "image/png": "[encoded data removed]",
      "text/plain": [
       "<Figure size 432x288 with 2 Axes>"
      ]
     },
     "metadata": {
      "needs_background": "light"
     },
     "output_type": "display_data"
    }
   ],
   "source": [
    "ct_sat = ct[\"sat\"]\n",
    "ct_dissat = ct[\"dissat\"]\n",
    "ind = ct[\"label\"]\n",
    "\n",
    "fig,ax=plt.subplots()\n",
    "p1 = ax.bar(ind, ct_sat)\n",
    "p2 = ax.bar(ind, ct_dissat, \n",
    "             bottom=ct_sat)\n",
    "ax.set_xlabel('Categories')\n",
    "ax.set_ylabel('Sat/Dissat percentage')\n",
    "\n",
    "\n",
    "ax2=ax.twinx()\n",
    "# make a plot with different y-axis using second axis object\n",
    "ax2.plot(ind, y_per_axis_lab,color=\"blue\",marker=\"o\")\n",
    "\n",
    "ax2.set_ylabel('intent percetage')\n",
    "plt.show()"
   ]
  }
 ],
 "metadata": {
  "kernelspec": {
   "display_name": "Python [conda env:Anaconda2-py36]",
   "language": "python",
   "name": "conda-env-Anaconda2-py36-py"
  },
  "language_info": {
   "codemirror_mode": {
    "name": "ipython",
    "version": 3
   },
   "file_extension": ".py",
   "mimetype": "text/x-python",
   "name": "python",
   "nbconvert_exporter": "python",
   "pygments_lexer": "ipython3",
   "version": "3.6.8"
  }
 },
 "nbformat": 4,
 "nbformat_minor": 2
}
